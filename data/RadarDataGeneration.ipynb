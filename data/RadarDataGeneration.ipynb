{
 "cells": [
  {
   "cell_type": "code",
   "execution_count": 45,
   "metadata": {},
   "outputs": [],
   "source": [
    "import pandas as pd"
   ]
  },
  {
   "cell_type": "code",
   "execution_count": 46,
   "metadata": {},
   "outputs": [],
   "source": [
    "states = [\"Alabama\",\"Alaska\",\"Arizona\",\"Arkansas\",\"California\",\"Colorado\",\n",
    "  \"Connecticut\",\"Delaware\",\"DistrictOfColumbia\", \"Florida\",\"Georgia\",\"Hawaii\",\"Idaho\",\"Illinois\",\n",
    "  \"Indiana\",\"Iowa\",\"Kansas\",\"Kentucky\",\"Louisiana\",\"Maine\",\"Maryland\",\n",
    "  \"Massachusetts\",\"Michigan\",\"Minnesota\",\"Mississippi\",\"Missouri\",\"Montana\",\n",
    "  \"Nebraska\",\"Nevada\",\"New Hampshire\",\"New Jersey\",\"New Mexico\",\"New York\",\n",
    "  \"North Carolina\",\"North Dakota\",\"Ohio\",\"Oklahoma\",\"Oregon\",\"Pennsylvania\",\n",
    "  \"Rhode Island\",\"South Carolina\",\"South Dakota\",\"Tennessee\",\"Texas\",\"Utah\",\n",
    "  \"Vermont\",\"Virginia\",\"Washington\",\"West Virginia\",\"Wisconsin\",\"Wyoming\"]"
   ]
  },
  {
   "cell_type": "code",
   "execution_count": 47,
   "metadata": {},
   "outputs": [
    {
     "name": "stdout",
     "output_type": "stream",
     "text": [
      "AlabamaCrimeStats.csv\n",
      "AlaskaCrimeStats.csv\n",
      "ArizonaCrimeStats.csv\n",
      "ArkansasCrimeStats.csv\n",
      "CaliforniaCrimeStats.csv\n",
      "ColoradoCrimeStats.csv\n",
      "ConnecticutCrimeStats.csv\n",
      "DelawareCrimeStats.csv\n",
      "DistrictOfColumbiaCrimeStats.csv\n",
      "FloridaCrimeStats.csv\n",
      "GeorgiaCrimeStats.csv\n",
      "HawaiiCrimeStats.csv\n",
      "IdahoCrimeStats.csv\n",
      "IllinoisCrimeStats.csv\n",
      "IndianaCrimeStats.csv\n",
      "IowaCrimeStats.csv\n",
      "KansasCrimeStats.csv\n",
      "KentuckyCrimeStats.csv\n",
      "LouisianaCrimeStats.csv\n",
      "MaineCrimeStats.csv\n",
      "MarylandCrimeStats.csv\n",
      "MassachusettsCrimeStats.csv\n",
      "MichiganCrimeStats.csv\n",
      "MinnesotaCrimeStats.csv\n",
      "MississippiCrimeStats.csv\n",
      "MissouriCrimeStats.csv\n",
      "MontanaCrimeStats.csv\n",
      "NebraskaCrimeStats.csv\n",
      "NevadaCrimeStats.csv\n",
      "New HampshireCrimeStats.csv\n",
      "New JerseyCrimeStats.csv\n",
      "New MexicoCrimeStats.csv\n",
      "New YorkCrimeStats.csv\n",
      "North CarolinaCrimeStats.csv\n",
      "North DakotaCrimeStats.csv\n",
      "OhioCrimeStats.csv\n",
      "OklahomaCrimeStats.csv\n",
      "OregonCrimeStats.csv\n",
      "PennsylvaniaCrimeStats.csv\n",
      "Rhode IslandCrimeStats.csv\n",
      "South CarolinaCrimeStats.csv\n",
      "South DakotaCrimeStats.csv\n",
      "TennesseeCrimeStats.csv\n",
      "TexasCrimeStats.csv\n",
      "UtahCrimeStats.csv\n",
      "VermontCrimeStats.csv\n",
      "VirginiaCrimeStats.csv\n",
      "WashingtonCrimeStats.csv\n",
      "West VirginiaCrimeStats.csv\n",
      "WisconsinCrimeStats.csv\n",
      "WyomingCrimeStats.csv\n"
     ]
    }
   ],
   "source": [
    "for j in range(len(states)):\n",
    "    filename = states[j] + 'CrimeStats.csv'\n",
    "    print(filename)    \n",
    "    df = pd.read_csv(filename)\n",
    "    df.drop(columns=['total', 'property'], inplace=True)\n",
    "    df['total'] = df.drop('State', axis=1).sum(axis=1)\n",
    "    for i, row in df.iterrows():\n",
    "        df.at[i,'rape_per'] = row['rape'] / row['total']\n",
    "        df.at[i,'murder_per'] = row['murder'] / row['total']\n",
    "        df.at[i,'assault_per'] = row['aggravatedassault'] / row['total']\n",
    "        df.at[i,'burglary_per'] = row['burglary'] / row['total']\n",
    "        df.at[i,'violent_per'] = row['violent'] / row['total']\n",
    "        df.at[i,'motor_vehicle_per'] = row['motorvehicletheft'] / row['total']\n",
    "        df.at[i,'larceny_per'] = row['larceny'] / row['total']\n",
    "    df.rename(columns={'State': 'year'}, inplace=True)\n",
    "    df.to_csv(filename, index=False)"
   ]
  },
  {
   "cell_type": "code",
   "execution_count": null,
   "metadata": {},
   "outputs": [],
   "source": []
  },
  {
   "cell_type": "code",
   "execution_count": null,
   "metadata": {},
   "outputs": [],
   "source": []
  },
  {
   "cell_type": "code",
   "execution_count": null,
   "metadata": {},
   "outputs": [],
   "source": []
  },
  {
   "cell_type": "code",
   "execution_count": 32,
   "metadata": {},
   "outputs": [],
   "source": []
  },
  {
   "cell_type": "code",
   "execution_count": null,
   "metadata": {},
   "outputs": [],
   "source": []
  },
  {
   "cell_type": "code",
   "execution_count": null,
   "metadata": {},
   "outputs": [],
   "source": []
  },
  {
   "cell_type": "code",
   "execution_count": 33,
   "metadata": {},
   "outputs": [],
   "source": []
  },
  {
   "cell_type": "code",
   "execution_count": 34,
   "metadata": {},
   "outputs": [],
   "source": []
  },
  {
   "cell_type": "code",
   "execution_count": 35,
   "metadata": {},
   "outputs": [],
   "source": []
  },
  {
   "cell_type": "code",
   "execution_count": null,
   "metadata": {},
   "outputs": [],
   "source": []
  },
  {
   "cell_type": "code",
   "execution_count": null,
   "metadata": {},
   "outputs": [],
   "source": []
  },
  {
   "cell_type": "code",
   "execution_count": null,
   "metadata": {},
   "outputs": [],
   "source": []
  },
  {
   "cell_type": "code",
   "execution_count": null,
   "metadata": {},
   "outputs": [],
   "source": []
  },
  {
   "cell_type": "code",
   "execution_count": null,
   "metadata": {},
   "outputs": [],
   "source": []
  }
 ],
 "metadata": {
  "kernelspec": {
   "display_name": "Python 3",
   "language": "python",
   "name": "python3"
  },
  "language_info": {
   "codemirror_mode": {
    "name": "ipython",
    "version": 3
   },
   "file_extension": ".py",
   "mimetype": "text/x-python",
   "name": "python",
   "nbconvert_exporter": "python",
   "pygments_lexer": "ipython3",
   "version": "3.6.5"
  }
 },
 "nbformat": 4,
 "nbformat_minor": 2
}
